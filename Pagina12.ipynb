{
 "cells": [
  {
   "cell_type": "code",
   "execution_count": 97,
   "metadata": {},
   "outputs": [],
   "source": [
    "import requests\n",
    "from bs4 import BeautifulSoup"
   ]
  },
  {
   "cell_type": "code",
   "execution_count": 98,
   "metadata": {},
   "outputs": [],
   "source": [
    "url = 'https://pagina12.com.ar'\n",
    "p12 = requests.get(url)\n",
    "p12.status_code\n",
    "p12.request.url\n",
    "s = BeautifulSoup(p12.text, 'lxml')"
   ]
  },
  {
   "cell_type": "code",
   "execution_count": 99,
   "metadata": {},
   "outputs": [
    {
     "data": {
      "text/plain": [
       "['https://www.pagina12.com.ar/secciones/el-pais',\n",
       " 'https://www.pagina12.com.ar/secciones/economia',\n",
       " 'https://www.pagina12.com.ar/secciones/sociedad',\n",
       " 'https://www.pagina12.com.ar/suplementos/cultura-y-espectaculos',\n",
       " 'https://www.pagina12.com.ar/secciones/deportes',\n",
       " 'https://www.pagina12.com.ar/secciones/ciencia',\n",
       " 'https://www.pagina12.com.ar/secciones/el-mundo']"
      ]
     },
     "execution_count": 99,
     "metadata": {},
     "output_type": "execute_result"
    }
   ],
   "source": [
    "\"\"\" Obtener secciones de la pagina de Pagina 12 \"\"\"\n",
    "\n",
    "anclas=s.find('ul', attrs={'class':'main-sections'}).find_all('a')\n",
    "links_secciones=[ancla.get('href') for ancla in anclas]\n",
    "links_secciones"
   ]
  },
  {
   "cell_type": "code",
   "execution_count": 100,
   "metadata": {},
   "outputs": [
    {
     "data": {
      "text/plain": [
       "'https://www.pagina12.com.ar//529291-repudios-a-una-actividad-negacionista-en-el-congreso-de-la-n'"
      ]
     },
     "execution_count": 100,
     "metadata": {},
     "output_type": "execute_result"
    }
   ],
   "source": [
    "\"\"\" Obtener El articulo principal de alguna seccion de pagina 12\"\"\"\n",
    "\n",
    "sec=requests.get(links_secciones[0])\n",
    "s_section=BeautifulSoup(sec.text,'lxml')\n",
    "top_article=s_section.find('section', attrs={'class':'top-content'})\n",
    "link_top_article=p12.request.url+top_article.a.get('href')\n",
    "link_top_article"
   ]
  },
  {
   "cell_type": "code",
   "execution_count": 101,
   "metadata": {},
   "outputs": [
    {
     "data": {
      "text/plain": [
       "['https://www.pagina12.com.ar//529266-de-pedir-pena-de-muerte-a-odiar-a-los-negros-de-cabeza-un-re',\n",
       " 'https://www.pagina12.com.ar//529258-amalia-granata-y-el-show-del-chaleco-antibalas-de-paintball',\n",
       " 'https://www.pagina12.com.ar//529110-el-discurso-de-axel-kicillof-en-la-legislatura-bonaerense-mi',\n",
       " 'https://www.pagina12.com.ar//529185-se-constituyo-el-comite-de-campana-morales-presidente-en-pro',\n",
       " 'https://www.pagina12.com.ar//529187-luana-volnovich-mas-atencion-oftalmologica-en-pami-mas-cober',\n",
       " 'https://www.pagina12.com.ar//529188-insaurralde-queremos-que-la-candidata-a-presidenta-sea-crist',\n",
       " 'https://www.pagina12.com.ar//529180-jorge-ferraresi-abrio-el-110-deg-periodo-de-sesiones-ordinar',\n",
       " 'https://www.pagina12.com.ar//529005-un-primer-tomo-con-sabor-a-poco',\n",
       " 'https://www.pagina12.com.ar//529024-rosario-bullrich-quiere-carceles-sin-celular-y-larreta-le-pa',\n",
       " 'https://www.pagina12.com.ar//529039-11-m-kicillof-y-maximo-kirchner-cerraran-el-plenario-contra-']"
      ]
     },
     "execution_count": 101,
     "metadata": {},
     "output_type": "execute_result"
    }
   ],
   "source": [
    "\"\"\" Código para obtener los links de noticias de una sección de noticias \"\"\"\n",
    "\n",
    "article_containers_list=s_section.find_all('div',attrs={'class':'articles-list'})\n",
    "article_list=[artiContainers.find_all('article',attrs={'class':'article-item'})for artiContainers in article_containers_list]\n",
    "article_list= article_list[0]+article_list[1]\n",
    "anclas_articulos=[articulos.a.get('href')for articulos in article_list]\n",
    "links_anclas=[p12.request.url + ancla for ancla in anclas_articulos]\n",
    "links_anclas"
   ]
  },
  {
   "cell_type": "code",
   "execution_count": 102,
   "metadata": {},
   "outputs": [
    {
     "data": {
      "text/plain": [
       "['https://www.pagina12.com.ar/529124-dolar-blue-y-dolar-hoy-la-cotizacion-de-este-lunes-6-de-marz',\n",
       " 'https://www.pagina12.com.ar/529164-dolar-blue-hoy-dolar-hoy-a-cuanto-cotizan-el-lunes-06-de-mar',\n",
       " 'https://www.pagina12.com.ar/528959-que-dejo-el-acuerdo-con-el-fondo',\n",
       " 'https://www.pagina12.com.ar/528991-la-aduana-descubrio-302-camisetas-de-futbol-en-el-equipaje-d',\n",
       " 'https://www.pagina12.com.ar/529007-las-ventas-minoristas-continuan-estancadas',\n",
       " 'https://www.pagina12.com.ar/529023-crece-la-produccion-de-crudo',\n",
       " 'https://www.pagina12.com.ar/529038-juntos-por-el-cambio-busca-hacer-fracasar-el-canje-de-deuda-',\n",
       " 'https://www.pagina12.com.ar/528791-del-puerto-ciego-de-macri-a-containers-bajo-la-lupa',\n",
       " 'https://www.pagina12.com.ar/528952-impuesto-a-las-ganancias-ultimo-plazo-para-presentar-el-form',\n",
       " 'https://www.pagina12.com.ar/528792-el-incendio-el-apagon-y-la-desinversion-pro',\n",
       " 'https://www.pagina12.com.ar/528799-moratoria-jubilatoria-por-que-es-necesaria-y-los-argumentos-']"
      ]
     },
     "execution_count": 102,
     "metadata": {},
     "output_type": "execute_result"
    }
   ],
   "source": [
    "\"\"\" Ejercicio para obtener las noticias de cualquier seccion de noticias, usando el link \"\"\"\n",
    "\n",
    "def getNewsLinks(page):\n",
    "\n",
    "    \"\"\" Here we get the page content \"\"\"\n",
    "    linkPage=requests.get(page)\n",
    "\n",
    "    \"\"\" We convert the the page content into a BS4 type variable \"\"\"\n",
    "    soupPage=BeautifulSoup(linkPage.text,'lxml')\n",
    "\n",
    "    \"\"\" en uuna variable almacenamos el contenedor de los articulos \"\"\"\n",
    "    articles_container=soupPage.find('div',attrs={'class':'main-content'})\n",
    "\n",
    "    \"\"\" dentro de article_list almacenamos una lista de todos los articulos dentro del contenedor\"\"\"\n",
    "    article_list=articles_container.find_all('article',attrs={'class':'article-item'})\n",
    "\n",
    "    \"\"\" obtenemos los links a los cuales redirige cada item en la lista \"\"\"\n",
    "    anclas_articulos=[articulos.a.get('href')for articulos in article_list]\n",
    "\n",
    "    fixed_link=p12.request.url.rstrip(p12.request.url[-1])\n",
    "\n",
    "    \"\"\" Agregamos el link originario de la página, para armar un link funcional, ya que los href que nos brinda el sitio son, por ejemplo '/deportes' , sin la parte inicial, que podemos obtener agragandolo manualmente el link de la pagina a cada ancla en la lista \"\"\"\n",
    "    links_anclas=[fixed_link + ancla for ancla in anclas_articulos]\n",
    "\n",
    "\n",
    "    \"\"\" devolvemos el resultados con los links de esa sección del diario \"\"\"\n",
    "    return links_anclas\n",
    "\n",
    "getNewsLinks('https://www.pagina12.com.ar/secciones/economia')"
   ]
  },
  {
   "cell_type": "code",
   "execution_count": 103,
   "metadata": {},
   "outputs": [
    {
     "name": "stdout",
     "output_type": "stream",
     "text": [
      "ha ocurrido algo we\n",
      "HTTPConnectionPool(host='xd.df.com', port=80): Max retries exceeded with url: / (Caused by NewConnectionError('<urllib3.connection.HTTPConnection object at 0x7fa1ee248340>: Failed to establish a new connection: [Errno -3] Temporary failure in name resolution'))\n",
      "\n",
      "\n"
     ]
    }
   ],
   "source": [
    "\"\"\" Manejo de errores \"\"\"\n",
    "\n",
    "try:\n",
    "    requests.get(' http://xd.df.com')\n",
    "except Exception as e:\n",
    "    print('ha ocurrido algo we')\n",
    "    print(e)\n",
    "    print('\\n')"
   ]
  },
  {
   "cell_type": "code",
   "execution_count": 104,
   "metadata": {},
   "outputs": [
    {
     "data": {
      "text/plain": [
       "'https://www.pagina12.com.ar/529124-dolar-blue-y-dolar-hoy-la-cotizacion-de-este-lunes-6-de-marz'"
      ]
     },
     "execution_count": 104,
     "metadata": {},
     "output_type": "execute_result"
    }
   ],
   "source": [
    "links_anclas=getNewsLinks('https://www.pagina12.com.ar/secciones/economia')\n",
    "url_noticia=links_anclas[0]\n",
    "url_noticia"
   ]
  },
  {
   "cell_type": "code",
   "execution_count": 105,
   "metadata": {},
   "outputs": [],
   "source": [
    "def obtenerInfoDeNota(url_noticia):\n",
    "    try:\n",
    "        nota=requests.get(url_noticia)\n",
    "        if nota.status_code==200:\n",
    "            ret_dict={}\n",
    "\n",
    "            s_nota=BeautifulSoup(nota.text,'html.parser')\n",
    "            \"\"\" Extracción de título \"\"\"\n",
    "            note_title=s_nota.find('h1').text\n",
    "            if note_title:\n",
    "                ret_dict['titulo']=note_title\n",
    "            else:\n",
    "                ret_dict['titulo']=None\n",
    "\n",
    "            \"\"\" Extracción de Fecha \"\"\"\n",
    "            note_date=s_nota.find('time').get('datetime')\n",
    "            if note_title:\n",
    "                ret_dict['date']=note_date\n",
    "            else:\n",
    "                ret_dict['date']=None\n",
    "\n",
    "            \"\"\" Extracción de Epígrafe \"\"\"\n",
    "            note_epigraph=s_nota.find('figcaption').text\n",
    "            if note_title:\n",
    "                ret_dict['figcaption']=note_epigraph\n",
    "            else:\n",
    "                ret_dict['figcaption']=None\n",
    "\n",
    "            \"\"\" Extracción de Volanta \"\"\"\n",
    "            note_volanta=s_nota.find('h2', attrs={'class':'h4'}).text\n",
    "            if note_title:\n",
    "                ret_dict['volanta']=note_volanta\n",
    "            else:\n",
    "                ret_dict['volanta']=None\n",
    "            return(ret_dict)\n",
    "        else:\n",
    "            return \"Hubo un error :(\"\n",
    "    except Exception as e:\n",
    "        print('hubo un error loco:')\n",
    "        print(e)\n",
    "        print('\\n')\n",
    "        return None\n",
    "\n",
    "        "
   ]
  },
  {
   "cell_type": "code",
   "execution_count": 106,
   "metadata": {},
   "outputs": [],
   "source": [
    "media= s_nota.find('div', attrs={\"class\":'article-main-media-image__container'})\n",
    "img_src=media.find('img').get('src')\n",
    "img_req=requests.get(img_src)"
   ]
  },
  {
   "cell_type": "code",
   "execution_count": 107,
   "metadata": {},
   "outputs": [
    {
     "data": {
      "text/plain": [
       "' from IPython.display import Image\\nImage(img_req.content) '"
      ]
     },
     "execution_count": 107,
     "metadata": {},
     "output_type": "execute_result"
    }
   ],
   "source": [
    "\"\"\" Como mostrar una imagen en jupyter notebooks usando Ipython \"\"\"\n",
    "\"\"\" from IPython.display import Image\n",
    "Image(img_req.content) \"\"\""
   ]
  },
  {
   "cell_type": "code",
   "execution_count": 108,
   "metadata": {},
   "outputs": [
    {
     "data": {
      "text/plain": [
       "{'titulo': '🔴 En vivo. Dólar blue y dólar hoy: la cotización de este lunes 6 de marzo, minuto a minuto\\xa0\\xa0',\n",
       " 'date': '2023-03-06T16:05:26-03:00',\n",
       " 'figcaption': '. Imagen: AFP',\n",
       " 'volanta': 'A cuánto cotiza para la compra y venta\\xa0 \\xa0 \\xa0 \\xa0 \\xa0 \\xa0',\n",
       " 'url': 'https://www.pagina12.com.ar/529124-dolar-blue-y-dolar-hoy-la-cotizacion-de-este-lunes-6-de-marz'}"
      ]
     },
     "execution_count": 108,
     "metadata": {},
     "output_type": "execute_result"
    }
   ],
   "source": [
    "def scraper_nota(url):\n",
    "    try:\n",
    "        nota=requests.get(url)\n",
    "    except Exception as e:\n",
    "        print(\"an error succes scrping the url\", url)\n",
    "        print(e)\n",
    "        return None\n",
    "    if nota.status_code!=200:\n",
    "        print(f\"error obteniendo {url}\")\n",
    "        print(f\"Status Code: {nota.status_code}\")\n",
    "        return None\n",
    "    else:\n",
    "        ret_dict=obtenerInfoDeNota(url)\n",
    "        ret_dict['url']=url\n",
    "        return ret_dict\n",
    "        \n",
    "scraper_nota(url_noticia)\n",
    "\n"
   ]
  },
  {
   "cell_type": "code",
   "execution_count": 109,
   "metadata": {},
   "outputs": [
    {
     "name": "stdout",
     "output_type": "stream",
     "text": [
      "scrapeando sección https://www.pagina12.com.ar/secciones/el-pais / 6\n",
      "scrapeando sección https://www.pagina12.com.ar/secciones/economia / 6\n",
      "scrapeando sección https://www.pagina12.com.ar/secciones/sociedad / 6\n",
      "scrapeando sección https://www.pagina12.com.ar/secciones/deportes / 6\n",
      "scrapeando sección https://www.pagina12.com.ar/secciones/ciencia / 6\n",
      "scrapeando sección https://www.pagina12.com.ar/secciones/el-mundo / 6\n",
      "an error succes scrping the url ['https://www.pagina12.com.ar/529291-repudios-a-una-actividad-negacionista-en-el-congreso-de-la-n', 'https://www.pagina12.com.ar/529266-de-pedir-pena-de-muerte-a-odiar-a-los-negros-de-cabeza-un-re', 'https://www.pagina12.com.ar/529258-amalia-granata-y-el-show-del-chaleco-antibalas-de-paintball', 'https://www.pagina12.com.ar/529110-el-discurso-de-axel-kicillof-en-la-legislatura-bonaerense-mi', 'https://www.pagina12.com.ar/529185-se-constituyo-el-comite-de-campana-morales-presidente-en-pro', 'https://www.pagina12.com.ar/529187-luana-volnovich-mas-atencion-oftalmologica-en-pami-mas-cober', 'https://www.pagina12.com.ar/529188-insaurralde-queremos-que-la-candidata-a-presidenta-sea-crist', 'https://www.pagina12.com.ar/529180-jorge-ferraresi-abrio-el-110-deg-periodo-de-sesiones-ordinar', 'https://www.pagina12.com.ar/529005-un-primer-tomo-con-sabor-a-poco', 'https://www.pagina12.com.ar/529024-rosario-bullrich-quiere-carceles-sin-celular-y-larreta-le-pa', 'https://www.pagina12.com.ar/529039-11-m-kicillof-y-maximo-kirchner-cerraran-el-plenario-contra-']\n",
      "No connection adapters were found for \"['https://www.pagina12.com.ar/529291-repudios-a-una-actividad-negacionista-en-el-congreso-de-la-n', 'https://www.pagina12.com.ar/529266-de-pedir-pena-de-muerte-a-odiar-a-los-negros-de-cabeza-un-re', 'https://www.pagina12.com.ar/529258-amalia-granata-y-el-show-del-chaleco-antibalas-de-paintball', 'https://www.pagina12.com.ar/529110-el-discurso-de-axel-kicillof-en-la-legislatura-bonaerense-mi', 'https://www.pagina12.com.ar/529185-se-constituyo-el-comite-de-campana-morales-presidente-en-pro', 'https://www.pagina12.com.ar/529187-luana-volnovich-mas-atencion-oftalmologica-en-pami-mas-cober', 'https://www.pagina12.com.ar/529188-insaurralde-queremos-que-la-candidata-a-presidenta-sea-crist', 'https://www.pagina12.com.ar/529180-jorge-ferraresi-abrio-el-110-deg-periodo-de-sesiones-ordinar', 'https://www.pagina12.com.ar/529005-un-primer-tomo-con-sabor-a-poco', 'https://www.pagina12.com.ar/529024-rosario-bullrich-quiere-carceles-sin-celular-y-larreta-le-pa', 'https://www.pagina12.com.ar/529039-11-m-kicillof-y-maximo-kirchner-cerraran-el-plenario-contra-']\"\n",
      "an error succes scrping the url ['https://www.pagina12.com.ar/529124-dolar-blue-y-dolar-hoy-la-cotizacion-de-este-lunes-6-de-marz', 'https://www.pagina12.com.ar/529164-dolar-blue-hoy-dolar-hoy-a-cuanto-cotizan-el-lunes-06-de-mar', 'https://www.pagina12.com.ar/528959-que-dejo-el-acuerdo-con-el-fondo', 'https://www.pagina12.com.ar/528991-la-aduana-descubrio-302-camisetas-de-futbol-en-el-equipaje-d', 'https://www.pagina12.com.ar/529007-las-ventas-minoristas-continuan-estancadas', 'https://www.pagina12.com.ar/529023-crece-la-produccion-de-crudo', 'https://www.pagina12.com.ar/529038-juntos-por-el-cambio-busca-hacer-fracasar-el-canje-de-deuda-', 'https://www.pagina12.com.ar/528791-del-puerto-ciego-de-macri-a-containers-bajo-la-lupa', 'https://www.pagina12.com.ar/528952-impuesto-a-las-ganancias-ultimo-plazo-para-presentar-el-form', 'https://www.pagina12.com.ar/528792-el-incendio-el-apagon-y-la-desinversion-pro', 'https://www.pagina12.com.ar/528799-moratoria-jubilatoria-por-que-es-necesaria-y-los-argumentos-']\n",
      "No connection adapters were found for \"['https://www.pagina12.com.ar/529124-dolar-blue-y-dolar-hoy-la-cotizacion-de-este-lunes-6-de-marz', 'https://www.pagina12.com.ar/529164-dolar-blue-hoy-dolar-hoy-a-cuanto-cotizan-el-lunes-06-de-mar', 'https://www.pagina12.com.ar/528959-que-dejo-el-acuerdo-con-el-fondo', 'https://www.pagina12.com.ar/528991-la-aduana-descubrio-302-camisetas-de-futbol-en-el-equipaje-d', 'https://www.pagina12.com.ar/529007-las-ventas-minoristas-continuan-estancadas', 'https://www.pagina12.com.ar/529023-crece-la-produccion-de-crudo', 'https://www.pagina12.com.ar/529038-juntos-por-el-cambio-busca-hacer-fracasar-el-canje-de-deuda-', 'https://www.pagina12.com.ar/528791-del-puerto-ciego-de-macri-a-containers-bajo-la-lupa', 'https://www.pagina12.com.ar/528952-impuesto-a-las-ganancias-ultimo-plazo-para-presentar-el-form', 'https://www.pagina12.com.ar/528792-el-incendio-el-apagon-y-la-desinversion-pro', 'https://www.pagina12.com.ar/528799-moratoria-jubilatoria-por-que-es-necesaria-y-los-argumentos-']\"\n",
      "an error succes scrping the url ['https://www.pagina12.com.ar/529235-menopausia-es-clave-no-abandonar-la-actividad-sexual', 'https://www.pagina12.com.ar/529234-aborto-una-lectura-sobre-el-engranaje-medico-juridico-y-reli', 'https://www.pagina12.com.ar/529231-palermo-asesinan-de-un-tiro-a-un-ingeniero-para-robarle-el-c', 'https://www.pagina12.com.ar/529230-los-manteros-quieren-respuestas-el-gobierno-porteno-pone-pal', 'https://www.pagina12.com.ar/406542-dia-de-la-mujer-por-que-se-conmemora-el-8-m', 'https://www.pagina12.com.ar/529169-un-popular-chocolate-ya-no-podra-usar-su-emblematico-logotip', 'https://www.pagina12.com.ar/529259-soledad-martinez-en-vicente-lopez-creemos-en-la-educacion-pu', 'https://www.pagina12.com.ar/529054-efemerides-de-hoy-que-paso-un-6-de-marzo', 'https://www.pagina12.com.ar/528955-feroz-incendio-en-el-bolson', 'https://www.pagina12.com.ar/528980-volvieron-a-detener-al-urologo-pablo-colaci-por-otra-denunci', 'https://www.pagina12.com.ar/528998-katherine-moscoso-ocho-anos-despues-un-fiscal-archivo-la-cau']\n",
      "No connection adapters were found for \"['https://www.pagina12.com.ar/529235-menopausia-es-clave-no-abandonar-la-actividad-sexual', 'https://www.pagina12.com.ar/529234-aborto-una-lectura-sobre-el-engranaje-medico-juridico-y-reli', 'https://www.pagina12.com.ar/529231-palermo-asesinan-de-un-tiro-a-un-ingeniero-para-robarle-el-c', 'https://www.pagina12.com.ar/529230-los-manteros-quieren-respuestas-el-gobierno-porteno-pone-pal', 'https://www.pagina12.com.ar/406542-dia-de-la-mujer-por-que-se-conmemora-el-8-m', 'https://www.pagina12.com.ar/529169-un-popular-chocolate-ya-no-podra-usar-su-emblematico-logotip', 'https://www.pagina12.com.ar/529259-soledad-martinez-en-vicente-lopez-creemos-en-la-educacion-pu', 'https://www.pagina12.com.ar/529054-efemerides-de-hoy-que-paso-un-6-de-marzo', 'https://www.pagina12.com.ar/528955-feroz-incendio-en-el-bolson', 'https://www.pagina12.com.ar/528980-volvieron-a-detener-al-urologo-pablo-colaci-por-otra-denunci', 'https://www.pagina12.com.ar/528998-katherine-moscoso-ocho-anos-despues-un-fiscal-archivo-la-cau']\"\n",
      "an error succes scrping the url ['https://www.pagina12.com.ar/529287-champions-league-el-chelsea-de-enzo-fernandez-busca-remontar', 'https://www.pagina12.com.ar/529265-el-river-de-demichelis-una-obra-en-construccion', 'https://www.pagina12.com.ar/529225-efecto-scaloneta-el-tecnico-argentino-revoluciono-el-salvado', 'https://www.pagina12.com.ar/529197-el-psg-adelanto-su-viaje-a-alemania-por-una-huelga-general-e', 'https://www.pagina12.com.ar/529181-djokovic-se-tuvo-que-bajar-de-indian-wells-y-miami-y-su-rein', 'https://www.pagina12.com.ar/529098-velez-fue-efectivo-en-el-primer-tiempo-y-se-llevo-un-valioso', 'https://www.pagina12.com.ar/529097-argentinos-juniors-se-llevo-la-victoria-de-tigre', 'https://www.pagina12.com.ar/529034-river-el-dt-demichelis-realizo-una-practica-con-suarez-y-mam', 'https://www.pagina12.com.ar/529053-huracan-y-san-lorenzo-empataron-en-un-clasico-con-poco-brill', 'https://www.pagina12.com.ar/528981-muhammad-ali-la-historia-de-un-nombre', 'https://www.pagina12.com.ar/529055-ruben-insua-levantamos-un-partido-dificil-y-eso-fue-merito-n']\n",
      "No connection adapters were found for \"['https://www.pagina12.com.ar/529287-champions-league-el-chelsea-de-enzo-fernandez-busca-remontar', 'https://www.pagina12.com.ar/529265-el-river-de-demichelis-una-obra-en-construccion', 'https://www.pagina12.com.ar/529225-efecto-scaloneta-el-tecnico-argentino-revoluciono-el-salvado', 'https://www.pagina12.com.ar/529197-el-psg-adelanto-su-viaje-a-alemania-por-una-huelga-general-e', 'https://www.pagina12.com.ar/529181-djokovic-se-tuvo-que-bajar-de-indian-wells-y-miami-y-su-rein', 'https://www.pagina12.com.ar/529098-velez-fue-efectivo-en-el-primer-tiempo-y-se-llevo-un-valioso', 'https://www.pagina12.com.ar/529097-argentinos-juniors-se-llevo-la-victoria-de-tigre', 'https://www.pagina12.com.ar/529034-river-el-dt-demichelis-realizo-una-practica-con-suarez-y-mam', 'https://www.pagina12.com.ar/529053-huracan-y-san-lorenzo-empataron-en-un-clasico-con-poco-brill', 'https://www.pagina12.com.ar/528981-muhammad-ali-la-historia-de-un-nombre', 'https://www.pagina12.com.ar/529055-ruben-insua-levantamos-un-partido-dificil-y-eso-fue-merito-n']\"\n",
      "an error succes scrping the url ['https://www.pagina12.com.ar/528443-disenan-un-videojuego-que-busca-detectar-posibles-casos-de-a', 'https://www.pagina12.com.ar/525739-el-uso-de-las-cabinas-de-unas-podria-causar-cancer-de-piel', 'https://www.pagina12.com.ar/523752-san-valentin-lo-que-la-ciencia-sabe-y-no-sabe-sobre-el-amor', 'https://www.pagina12.com.ar/522619-una-empresa-argentina-lanzo-un-kit-que-permite-detectar-deng', 'https://www.pagina12.com.ar/522605-editaron-con-exito-el-genoma-porcino-que-acercaria-a-la-arge', 'https://www.pagina12.com.ar/522330-descubren-un-planeta-posiblemente-habitable-para-la-vida-hum', 'https://www.pagina12.com.ar/519817-un-cometa-verde-se-acerca-a-la-tierra-como-y-cuando-verlo-en', 'https://www.pagina12.com.ar/519019-crearon-un-robot-liquido-similar-al-villano-de-terminator-2', 'https://www.pagina12.com.ar/516705-hubo-vida-en-marte-un-meteorito-podria-dar-la-respuesta', 'https://www.pagina12.com.ar/515224-de-las-bikinis-en-la-antigua-roma-a-los-primeros-viajes-de-e', 'https://www.pagina12.com.ar/509448-la-tierra-podria-colisionar-contra-el-sol']\n",
      "No connection adapters were found for \"['https://www.pagina12.com.ar/528443-disenan-un-videojuego-que-busca-detectar-posibles-casos-de-a', 'https://www.pagina12.com.ar/525739-el-uso-de-las-cabinas-de-unas-podria-causar-cancer-de-piel', 'https://www.pagina12.com.ar/523752-san-valentin-lo-que-la-ciencia-sabe-y-no-sabe-sobre-el-amor', 'https://www.pagina12.com.ar/522619-una-empresa-argentina-lanzo-un-kit-que-permite-detectar-deng', 'https://www.pagina12.com.ar/522605-editaron-con-exito-el-genoma-porcino-que-acercaria-a-la-arge', 'https://www.pagina12.com.ar/522330-descubren-un-planeta-posiblemente-habitable-para-la-vida-hum', 'https://www.pagina12.com.ar/519817-un-cometa-verde-se-acerca-a-la-tierra-como-y-cuando-verlo-en', 'https://www.pagina12.com.ar/519019-crearon-un-robot-liquido-similar-al-villano-de-terminator-2', 'https://www.pagina12.com.ar/516705-hubo-vida-en-marte-un-meteorito-podria-dar-la-respuesta', 'https://www.pagina12.com.ar/515224-de-las-bikinis-en-la-antigua-roma-a-los-primeros-viajes-de-e', 'https://www.pagina12.com.ar/509448-la-tierra-podria-colisionar-contra-el-sol']\"\n",
      "an error succes scrping the url ['https://www.pagina12.com.ar/529115-la-guerra-rusia-ucrania-minuto-a-minuto', 'https://www.pagina12.com.ar/528973-ee-uu-cuba-y-la-polemica-lista-de-paises-patrocinadores-de-t', 'https://www.pagina12.com.ar/529009-lula-salva-a-brasil-otra-vez', 'https://www.pagina12.com.ar/529035-china-fijo-un-objetivo-de-crecimiento-prudente-y-aumento-su-', 'https://www.pagina12.com.ar/528994-venezuela-rindio-homenaje-a-hugo-chavez-a-diez-anos-de-su-mu', 'https://www.pagina12.com.ar/529020-bolsonaro-nego-cualquier-ilegalidad-en-las-joyas-regaladas-p', 'https://www.pagina12.com.ar/528960-insolito-una-misteriosa-lluvia-de-gusanos-atemoriza-a-china', 'https://www.pagina12.com.ar/528798-ecuador-ordenan-la-detencion-de-lenin-moreno', 'https://www.pagina12.com.ar/528800-el-salvador-la-implosion-que-viene-con-bukele', 'https://www.pagina12.com.ar/528803-nicaragua-daniel-somoza-cada-vez-mas-traidor', 'https://www.pagina12.com.ar/528804-chile-novedades-en-el-expediente-neruda']\n",
      "No connection adapters were found for \"['https://www.pagina12.com.ar/529115-la-guerra-rusia-ucrania-minuto-a-minuto', 'https://www.pagina12.com.ar/528973-ee-uu-cuba-y-la-polemica-lista-de-paises-patrocinadores-de-t', 'https://www.pagina12.com.ar/529009-lula-salva-a-brasil-otra-vez', 'https://www.pagina12.com.ar/529035-china-fijo-un-objetivo-de-crecimiento-prudente-y-aumento-su-', 'https://www.pagina12.com.ar/528994-venezuela-rindio-homenaje-a-hugo-chavez-a-diez-anos-de-su-mu', 'https://www.pagina12.com.ar/529020-bolsonaro-nego-cualquier-ilegalidad-en-las-joyas-regaladas-p', 'https://www.pagina12.com.ar/528960-insolito-una-misteriosa-lluvia-de-gusanos-atemoriza-a-china', 'https://www.pagina12.com.ar/528798-ecuador-ordenan-la-detencion-de-lenin-moreno', 'https://www.pagina12.com.ar/528800-el-salvador-la-implosion-que-viene-con-bukele', 'https://www.pagina12.com.ar/528803-nicaragua-daniel-somoza-cada-vez-mas-traidor', 'https://www.pagina12.com.ar/528804-chile-novedades-en-el-expediente-neruda']\"\n"
     ]
    },
    {
     "data": {
      "text/plain": [
       "[None, None, None, None, None, None]"
      ]
     },
     "execution_count": 109,
     "metadata": {},
     "output_type": "execute_result"
    }
   ],
   "source": [
    "newsList=[]\n",
    "links_secciones.remove('https://www.pagina12.com.ar/suplementos/cultura-y-espectaculos')\n",
    "for i in links_secciones:\n",
    "    print(f\"scrapeando sección {i} / {len(links_secciones)}\")\n",
    "    newsList.append(getNewsLinks(i))\n",
    "    \n",
    "newsContent=[]\n",
    "for nota in newsList:\n",
    "    newsContent.append(scraper_nota(nota))\n",
    "\n",
    "newsContent"
   ]
  },
  {
   "cell_type": "code",
   "execution_count": 110,
   "metadata": {},
   "outputs": [
    {
     "name": "stdout",
     "output_type": "stream",
     "text": [
      "hubo un error loco:\n",
      "'NoneType' object has no attribute 'text'\n",
      "\n",
      "\n"
     ]
    },
    {
     "ename": "TypeError",
     "evalue": "'NoneType' object does not support item assignment",
     "output_type": "error",
     "traceback": [
      "\u001b[0;31m---------------------------------------------------------------------------\u001b[0m",
      "\u001b[0;31mTypeError\u001b[0m                                 Traceback (most recent call last)",
      "Cell \u001b[0;32mIn[110], line 1\u001b[0m\n\u001b[0;32m----> 1\u001b[0m scraper_nota(\u001b[39m'\u001b[39;49m\u001b[39mhttps://www.pagina12.com.ar/529291-repudios-a-una-actividad-negacionista-en-el-congreso-de-la-n\u001b[39;49m\u001b[39m'\u001b[39;49m)\n",
      "Cell \u001b[0;32mIn[108], line 14\u001b[0m, in \u001b[0;36mscraper_nota\u001b[0;34m(url)\u001b[0m\n\u001b[1;32m     12\u001b[0m \u001b[39melse\u001b[39;00m:\n\u001b[1;32m     13\u001b[0m     ret_dict\u001b[39m=\u001b[39mobtenerInfoDeNota(url)\n\u001b[0;32m---> 14\u001b[0m     ret_dict[\u001b[39m'\u001b[39;49m\u001b[39murl\u001b[39;49m\u001b[39m'\u001b[39;49m]\u001b[39m=\u001b[39murl\n\u001b[1;32m     15\u001b[0m     \u001b[39mreturn\u001b[39;00m ret_dict\n",
      "\u001b[0;31mTypeError\u001b[0m: 'NoneType' object does not support item assignment"
     ]
    }
   ],
   "source": [
    "scraper_nota('https://www.pagina12.com.ar/529291-repudios-a-una-actividad-negacionista-en-el-congreso-de-la-n')"
   ]
  }
 ],
 "metadata": {
  "kernelspec": {
   "display_name": "Python 3",
   "language": "python",
   "name": "python3"
  },
  "language_info": {
   "codemirror_mode": {
    "name": "ipython",
    "version": 3
   },
   "file_extension": ".py",
   "mimetype": "text/x-python",
   "name": "python",
   "nbconvert_exporter": "python",
   "pygments_lexer": "ipython3",
   "version": "3.10.8"
  },
  "orig_nbformat": 4,
  "vscode": {
   "interpreter": {
    "hash": "916dbcbb3f70747c44a77c7bcd40155683ae19c65e1c03b4aa3499c5328201f1"
   }
  }
 },
 "nbformat": 4,
 "nbformat_minor": 2
}
