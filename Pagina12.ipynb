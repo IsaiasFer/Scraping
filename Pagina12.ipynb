{
 "cells": [
  {
   "cell_type": "code",
   "execution_count": 113,
   "metadata": {},
   "outputs": [],
   "source": [
    "import requests\n",
    "from bs4 import BeautifulSoup"
   ]
  },
  {
   "cell_type": "code",
   "execution_count": 114,
   "metadata": {},
   "outputs": [],
   "source": [
    "url = 'https://pagina12.com.ar'"
   ]
  },
  {
   "cell_type": "code",
   "execution_count": 115,
   "metadata": {},
   "outputs": [],
   "source": [
    "p12 = requests.get(url)"
   ]
  },
  {
   "cell_type": "code",
   "execution_count": 116,
   "metadata": {},
   "outputs": [
    {
     "data": {
      "text/plain": [
       "200"
      ]
     },
     "execution_count": 116,
     "metadata": {},
     "output_type": "execute_result"
    }
   ],
   "source": [
    "p12.status_code"
   ]
  },
  {
   "cell_type": "code",
   "execution_count": 117,
   "metadata": {},
   "outputs": [
    {
     "data": {
      "text/plain": [
       "'https://www.pagina12.com.ar/'"
      ]
     },
     "execution_count": 117,
     "metadata": {},
     "output_type": "execute_result"
    }
   ],
   "source": [
    "p12.request.url"
   ]
  },
  {
   "cell_type": "code",
   "execution_count": 118,
   "metadata": {},
   "outputs": [],
   "source": [
    "s = BeautifulSoup(p12.text, 'lxml')"
   ]
  },
  {
   "cell_type": "code",
   "execution_count": 119,
   "metadata": {},
   "outputs": [
    {
     "data": {
      "text/plain": [
       "['https://www.pagina12.com.ar/secciones/el-pais',\n",
       " 'https://www.pagina12.com.ar/secciones/economia',\n",
       " 'https://www.pagina12.com.ar/secciones/sociedad',\n",
       " 'https://www.pagina12.com.ar/suplementos/cultura-y-espectaculos',\n",
       " 'https://www.pagina12.com.ar/secciones/deportes',\n",
       " 'https://www.pagina12.com.ar/secciones/ciencia',\n",
       " 'https://www.pagina12.com.ar/secciones/el-mundo']"
      ]
     },
     "execution_count": 119,
     "metadata": {},
     "output_type": "execute_result"
    }
   ],
   "source": [
    "anclas=s.find('ul', attrs={'class':'main-sections'}).find_all('a')\n",
    "links_secciones=[ancla.get('href') for ancla in anclas]\n",
    "links_secciones"
   ]
  },
  {
   "cell_type": "code",
   "execution_count": 120,
   "metadata": {},
   "outputs": [
    {
     "data": {
      "text/plain": [
       "'https://www.pagina12.com.ar//515017-diputados-del-frente-de-todos-preparan-la-letra-chica-del-pe'"
      ]
     },
     "execution_count": 120,
     "metadata": {},
     "output_type": "execute_result"
    }
   ],
   "source": [
    "sec=requests.get(links_secciones[0])\n",
    "s_section=BeautifulSoup(sec.text,'lxml')\n",
    "top_article=s_section.find('section', attrs={'class':'top-content'})\n",
    "link_top_article=p12.request.url+top_article.a.get('href')\n",
    "link_top_article"
   ]
  },
  {
   "cell_type": "code",
   "execution_count": 123,
   "metadata": {},
   "outputs": [
    {
     "data": {
      "text/plain": [
       "['https://www.pagina12.com.ar//514978-la-defensa-de-cristina-kirchner-aseguro-que-no-hay-voluntad-',\n",
       " 'https://www.pagina12.com.ar//512864-calendario-escolar-2023-cuando-empiezan-las-clases-en-la-pro',\n",
       " 'https://www.pagina12.com.ar//514952-trafico-de-armas-a-bolivia-denuncian-el-cajoneo-de-la-causa-',\n",
       " 'https://www.pagina12.com.ar//512698-calendario-de-feriados-2023-cuando-es-carnaval-y-todos-los-f',\n",
       " 'https://www.pagina12.com.ar//514919-alerta-amarilla-por-tormentas-vientos-y-granizo-en-la-costa-',\n",
       " 'https://www.pagina12.com.ar//514913-alberto-fernandez-celebro-el-globo-de-oro-a-argentina-1985',\n",
       " 'https://www.pagina12.com.ar//514825-schiaretti-salta-el-alambrado-para-competir-por-la-casa-rosa',\n",
       " 'https://www.pagina12.com.ar//514828-juicio-politico-a-la-corte-las-criticas-del-fdt-a-la-defensa',\n",
       " 'https://www.pagina12.com.ar//514863-dos-jubilaciones-en-la-camara-de-casacion-abren-el-calendari',\n",
       " 'https://www.pagina12.com.ar//514699-quien-vota-por-juan-xxiii-el-misterio-de-los-afiches-en-mar-']"
      ]
     },
     "execution_count": 123,
     "metadata": {},
     "output_type": "execute_result"
    }
   ],
   "source": [
    "article_containers_list=s_section.find_all('div',attrs={'class':'articles-list'})\n",
    "article_list=[artiContainers.find_all('article',attrs={'class':'article-item'})for artiContainers in article_containers_list]\n",
    "article_list= article_list[0]+article_list[1]\n",
    "anclas_articulos=[articulos.a.get('href')for articulos in article_list]\n",
    "links_anclas=[p12.request.url + ancla for ancla in anclas_articulos]\n",
    "links_anclas"
   ]
  }
 ],
 "metadata": {
  "kernelspec": {
   "display_name": "scraping",
   "language": "python",
   "name": "python3"
  },
  "language_info": {
   "codemirror_mode": {
    "name": "ipython",
    "version": 3
   },
   "file_extension": ".py",
   "mimetype": "text/x-python",
   "name": "python",
   "nbconvert_exporter": "python",
   "pygments_lexer": "ipython3",
   "version": "3.10.8"
  },
  "orig_nbformat": 4,
  "vscode": {
   "interpreter": {
    "hash": "35e909b5501fda0eb08fd42dbcbc982e4729a6b54456ccd930b62ddd58fc268f"
   }
  }
 },
 "nbformat": 4,
 "nbformat_minor": 2
}
