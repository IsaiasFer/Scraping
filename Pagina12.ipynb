{
 "cells": [
  {
   "cell_type": "code",
   "execution_count": null,
   "metadata": {},
   "outputs": [],
   "source": [
    "import requests\n",
    "from bs4 import BeautifulSoup"
   ]
  },
  {
   "cell_type": "code",
   "execution_count": null,
   "metadata": {},
   "outputs": [],
   "source": [
    "url = 'https://pagina12.com.ar'"
   ]
  },
  {
   "cell_type": "code",
   "execution_count": null,
   "metadata": {},
   "outputs": [],
   "source": [
    "p12 = requests.get(url)"
   ]
  },
  {
   "cell_type": "code",
   "execution_count": null,
   "metadata": {},
   "outputs": [],
   "source": [
    "p12.status_code"
   ]
  },
  {
   "cell_type": "code",
   "execution_count": null,
   "metadata": {},
   "outputs": [],
   "source": [
    "p12.request.url"
   ]
  },
  {
   "cell_type": "code",
   "execution_count": null,
   "metadata": {},
   "outputs": [],
   "source": [
    "s = BeautifulSoup(p12.text, 'lxml')"
   ]
  },
  {
   "cell_type": "code",
   "execution_count": 28,
   "metadata": {},
   "outputs": [
    {
     "data": {
      "text/plain": [
       "[<a href=\"https://www.pagina12.com.ar/secciones/el-pais\">El país</a>,\n",
       " <a href=\"https://www.pagina12.com.ar/secciones/economia\">Economía</a>,\n",
       " <a href=\"https://www.pagina12.com.ar/secciones/sociedad\">Sociedad</a>,\n",
       " <a href=\"https://www.pagina12.com.ar/suplementos/cultura-y-espectaculos\">Espectáculos</a>,\n",
       " <a href=\"https://www.pagina12.com.ar/secciones/deportes\">Deportes</a>,\n",
       " <a href=\"https://www.pagina12.com.ar/secciones/ciencia\">Ciencia</a>,\n",
       " <a href=\"https://www.pagina12.com.ar/secciones/el-mundo\">El mundo</a>]"
      ]
     },
     "execution_count": 28,
     "metadata": {},
     "output_type": "execute_result"
    }
   ],
   "source": [
    "s.find('ul', attrs={'class':'main-sections'}).find_all('a')"
   ]
  }
 ],
 "metadata": {
  "kernelspec": {
   "display_name": "scraping",
   "language": "python",
   "name": "python3"
  },
  "language_info": {
   "codemirror_mode": {
    "name": "ipython",
    "version": 3
   },
   "file_extension": ".py",
   "mimetype": "text/x-python",
   "name": "python",
   "nbconvert_exporter": "python",
   "pygments_lexer": "ipython3",
   "version": "3.10.8"
  },
  "orig_nbformat": 4,
  "vscode": {
   "interpreter": {
    "hash": "35e909b5501fda0eb08fd42dbcbc982e4729a6b54456ccd930b62ddd58fc268f"
   }
  }
 },
 "nbformat": 4,
 "nbformat_minor": 2
}
