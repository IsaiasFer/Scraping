{
 "cells": [
  {
   "cell_type": "code",
   "execution_count": 77,
   "metadata": {},
   "outputs": [],
   "source": [
    "import requests\n",
    "from bs4 import BeautifulSoup"
   ]
  },
  {
   "cell_type": "code",
   "execution_count": 78,
   "metadata": {},
   "outputs": [],
   "source": [
    "url = 'https://pagina12.com.ar'\n",
    "p12 = requests.get(url)\n",
    "p12.status_code\n",
    "p12.request.url\n",
    "s = BeautifulSoup(p12.text, 'lxml')"
   ]
  },
  {
   "cell_type": "code",
   "execution_count": 79,
   "metadata": {},
   "outputs": [
    {
     "data": {
      "text/plain": [
       "['https://www.pagina12.com.ar/secciones/el-pais',\n",
       " 'https://www.pagina12.com.ar/secciones/economia',\n",
       " 'https://www.pagina12.com.ar/secciones/sociedad',\n",
       " 'https://www.pagina12.com.ar/suplementos/cultura-y-espectaculos',\n",
       " 'https://www.pagina12.com.ar/secciones/deportes',\n",
       " 'https://www.pagina12.com.ar/secciones/ciencia',\n",
       " 'https://www.pagina12.com.ar/secciones/el-mundo']"
      ]
     },
     "execution_count": 79,
     "metadata": {},
     "output_type": "execute_result"
    }
   ],
   "source": [
    "\"\"\" Obtener secciones de la pagina de Pagina 12 \"\"\"\n",
    "\n",
    "anclas=s.find('ul', attrs={'class':'main-sections'}).find_all('a')\n",
    "links_secciones=[ancla.get('href') for ancla in anclas]\n",
    "links_secciones"
   ]
  },
  {
   "cell_type": "code",
   "execution_count": 80,
   "metadata": {},
   "outputs": [
    {
     "data": {
      "text/plain": [
       "'https://www.pagina12.com.ar//523535-beinusz-szmukler-el-amigo-que-vivio-y-murio-de-pie'"
      ]
     },
     "execution_count": 80,
     "metadata": {},
     "output_type": "execute_result"
    }
   ],
   "source": [
    "\"\"\" Obtener El articulo principal de alguna seccion de pagina 12\"\"\"\n",
    "\n",
    "sec=requests.get(links_secciones[0])\n",
    "s_section=BeautifulSoup(sec.text,'lxml')\n",
    "top_article=s_section.find('section', attrs={'class':'top-content'})\n",
    "link_top_article=p12.request.url+top_article.a.get('href')\n",
    "link_top_article"
   ]
  },
  {
   "cell_type": "code",
   "execution_count": 81,
   "metadata": {},
   "outputs": [
    {
     "data": {
      "text/plain": [
       "['https://www.pagina12.com.ar//523489-agustin-rossi-asume-este-miercoles-como-nuevo-jefe-de-gabine',\n",
       " 'https://www.pagina12.com.ar//523529-historico-en-ushuaia-paridad-de-genero-en-el-concejo-deliber',\n",
       " 'https://www.pagina12.com.ar//523401-alberto-fernandez-y-eduardo-wado-de-pedro-se-reunieron-en-ol',\n",
       " 'https://www.pagina12.com.ar//523411-plan-de-gobierno-fase-2-urgencias-de-la-patria',\n",
       " 'https://www.pagina12.com.ar//523421-frente-de-todos-tires-y-aflojes-rumbo-a-la-reunion-de-la-mes',\n",
       " 'https://www.pagina12.com.ar//523427-prision-perpetua-la-finalidad-del-castigo-la-justicia-y-la-v',\n",
       " 'https://www.pagina12.com.ar//523439-la-pampa-la-primera-eleccion-del-ano-trajo-malas-noticias-pa',\n",
       " 'https://www.pagina12.com.ar//523329-el-renovado-dilema-del-frente-de-todos',\n",
       " 'https://www.pagina12.com.ar//523336-los-ataques-trolls-de-fernando-iglesias-no-se-toman-dias-de-',\n",
       " 'https://www.pagina12.com.ar//523349-elisa-carrio-volvio-a-cargar-contra-javier-milei-si-gana-me-']"
      ]
     },
     "execution_count": 81,
     "metadata": {},
     "output_type": "execute_result"
    }
   ],
   "source": [
    "\"\"\" Código para obtener los links de noticias de una sección de noticias \"\"\"\n",
    "\n",
    "article_containers_list=s_section.find_all('div',attrs={'class':'articles-list'})\n",
    "article_list=[artiContainers.find_all('article',attrs={'class':'article-item'})for artiContainers in article_containers_list]\n",
    "article_list= article_list[0]+article_list[1]\n",
    "anclas_articulos=[articulos.a.get('href')for articulos in article_list]\n",
    "links_anclas=[p12.request.url + ancla for ancla in anclas_articulos]\n",
    "links_anclas"
   ]
  },
  {
   "cell_type": "code",
   "execution_count": 82,
   "metadata": {},
   "outputs": [
    {
     "data": {
      "text/plain": [
       "['https://www.pagina12.com.ar/523537-vista-aumento-sus-reservas-probadas-un-39-y-la-produccion-un',\n",
       " 'https://www.pagina12.com.ar/523468-dolar-blue-y-dolar-hoy-todas-las-cotizaciones-de-este-lunes-',\n",
       " 'https://www.pagina12.com.ar/523515-una-ilegalidad-estructural-para-la-liberalizacion',\n",
       " 'https://www.pagina12.com.ar/523479-dolar-blue-hoy-dolar-hoy-a-cuanto-cotizan-el-lunes-13-de-feb',\n",
       " 'https://www.pagina12.com.ar/523337-que-hacer-con-las-criptomonedas',\n",
       " 'https://www.pagina12.com.ar/523352-rubinstein-reafirmamos-la-meta-de-lograr-un-deficit-de-1-9-p',\n",
       " 'https://www.pagina12.com.ar/523361-se-recupera-el-empleo-registrado-privado',\n",
       " 'https://www.pagina12.com.ar/523437-anses-jubilados-quienes-cobran-hoy-domingo-12-de-febrero',\n",
       " 'https://www.pagina12.com.ar/523335-aumento-para-jubilados-de-cuanto-sera-el-bono-y-cuando-comen',\n",
       " 'https://www.pagina12.com.ar/523210-mauricio-macri-quiere-incendiar-la-economia-y-aplicar-la-doc',\n",
       " 'https://www.pagina12.com.ar/523235-de-que-depende-el-exito-de-precios-justos']"
      ]
     },
     "execution_count": 82,
     "metadata": {},
     "output_type": "execute_result"
    }
   ],
   "source": [
    "\"\"\" Ejercicio para obtener las noticias de cualquier seccion de noticias, usando el link \"\"\"\n",
    "\n",
    "def getNewsLinks(page):\n",
    "\n",
    "    \"\"\" Here we get the page content \"\"\"\n",
    "    linkPage=requests.get(page)\n",
    "\n",
    "    \"\"\" We convert the the page content into a BS4 type variable \"\"\"\n",
    "    soupPage=BeautifulSoup(linkPage.text,'lxml')\n",
    "\n",
    "    \"\"\" en uuna variable almacenamos el contenedor de los articulos \"\"\"\n",
    "    articles_container=soupPage.find('div',attrs={'class':'main-content'})\n",
    "\n",
    "    \"\"\" dentro de article_list almacenamos una lista de todos los articulos dentro del contenedor\"\"\"\n",
    "    article_list=articles_container.find_all('article',attrs={'class':'article-item'})\n",
    "\n",
    "    \"\"\" obtenemos los links a los cuales redirige cada item en la lista \"\"\"\n",
    "    anclas_articulos=[articulos.a.get('href')for articulos in article_list]\n",
    "\n",
    "    fixed_link=p12.request.url.rstrip(p12.request.url[-1])\n",
    "\n",
    "    \"\"\" Agregamos el link originario de la página, para armar un link funcional, ya que los href que nos brinda el sitio son, por ejemplo '/deportes' , sin la parte inicial, que podemos obtener agragandolo manualmente el link de la pagina a cada ancla en la lista \"\"\"\n",
    "    links_anclas=[fixed_link + ancla for ancla in anclas_articulos]\n",
    "\n",
    "\n",
    "    \"\"\" devolvemos el resultados con los links de esa sección del diario \"\"\"\n",
    "    return links_anclas\n",
    "\n",
    "getNewsLinks('https://www.pagina12.com.ar/secciones/economia')"
   ]
  },
  {
   "cell_type": "code",
   "execution_count": 83,
   "metadata": {},
   "outputs": [
    {
     "name": "stdout",
     "output_type": "stream",
     "text": [
      "ha ocurrido algo we\n",
      "HTTPConnectionPool(host='xd.df.com', port=80): Max retries exceeded with url: / (Caused by NewConnectionError('<urllib3.connection.HTTPConnection object at 0x7f08836f0b20>: Failed to establish a new connection: [Errno -3] Temporary failure in name resolution'))\n",
      "\n",
      "\n"
     ]
    }
   ],
   "source": [
    "\"\"\" Manejo de errores \"\"\"\n",
    "\n",
    "try:\n",
    "    requests.get(' http://xd.df.com')\n",
    "except Exception as e:\n",
    "    print('ha ocurrido algo we')\n",
    "    print(e)\n",
    "    print('\\n')"
   ]
  },
  {
   "cell_type": "code",
   "execution_count": 84,
   "metadata": {},
   "outputs": [
    {
     "data": {
      "text/plain": [
       "'https://www.pagina12.com.ar/523537-vista-aumento-sus-reservas-probadas-un-39-y-la-produccion-un'"
      ]
     },
     "execution_count": 84,
     "metadata": {},
     "output_type": "execute_result"
    }
   ],
   "source": [
    "links_anclas=getNewsLinks('https://www.pagina12.com.ar/secciones/economia')\n",
    "url_noticia=links_anclas[0]\n",
    "url_noticia"
   ]
  },
  {
   "cell_type": "code",
   "execution_count": 88,
   "metadata": {},
   "outputs": [
    {
     "name": "stdout",
     "output_type": "stream",
     "text": [
      "Este es el titulo de la noticia:\n",
      "Vista aumentó sus reservas probadas un 39% y la producción un 33%\n",
      "Esta es la fecha:\n",
      "13 de febrero de 2023 - 13:55\n"
     ]
    }
   ],
   "source": [
    "try:\n",
    "    nota=requests.get(url_noticia)\n",
    "    if nota.status_code==200:\n",
    "        s_nota=BeautifulSoup(nota.text,'html.parser')\n",
    "        \"\"\" Extracción de título \"\"\"\n",
    "        note_title=s_nota.find('h1').text\n",
    "        print('Este es el titulo de la noticia:')\n",
    "        print(note_title)\n",
    "        \"\"\" Extracción de Fecha \"\"\"\n",
    "        note_date=s_nota.find('time').text\n",
    "        print('Esta es la fecha:')\n",
    "        print(note_date)\n",
    "except Exception as e:\n",
    "    print('hubo un error loco:')\n",
    "    print(e)\n",
    "    print('\\n')"
   ]
  }
 ],
 "metadata": {
  "kernelspec": {
   "display_name": "scraping",
   "language": "python",
   "name": "python3"
  },
  "language_info": {
   "codemirror_mode": {
    "name": "ipython",
    "version": 3
   },
   "file_extension": ".py",
   "mimetype": "text/x-python",
   "name": "python",
   "nbconvert_exporter": "python",
   "pygments_lexer": "ipython3",
   "version": "3.10.8"
  },
  "orig_nbformat": 4,
  "vscode": {
   "interpreter": {
    "hash": "35e909b5501fda0eb08fd42dbcbc982e4729a6b54456ccd930b62ddd58fc268f"
   }
  }
 },
 "nbformat": 4,
 "nbformat_minor": 2
}
