{
 "cells": [
  {
   "cell_type": "code",
   "execution_count": 111,
   "metadata": {},
   "outputs": [],
   "source": [
    "import requests\n",
    "from bs4 import BeautifulSoup"
   ]
  },
  {
   "cell_type": "code",
   "execution_count": 112,
   "metadata": {},
   "outputs": [],
   "source": [
    "url = 'https://pagina12.com.ar'"
   ]
  },
  {
   "cell_type": "code",
   "execution_count": 113,
   "metadata": {},
   "outputs": [],
   "source": [
    "p12 = requests.get(url)"
   ]
  },
  {
   "cell_type": "code",
   "execution_count": 114,
   "metadata": {},
   "outputs": [
    {
     "data": {
      "text/plain": [
       "200"
      ]
     },
     "execution_count": 114,
     "metadata": {},
     "output_type": "execute_result"
    }
   ],
   "source": [
    "p12.status_code"
   ]
  },
  {
   "cell_type": "code",
   "execution_count": 115,
   "metadata": {},
   "outputs": [
    {
     "data": {
      "text/plain": [
       "'https://www.pagina12.com.ar/'"
      ]
     },
     "execution_count": 115,
     "metadata": {},
     "output_type": "execute_result"
    }
   ],
   "source": [
    "p12.request.url"
   ]
  },
  {
   "cell_type": "code",
   "execution_count": 116,
   "metadata": {},
   "outputs": [],
   "source": [
    "s = BeautifulSoup(p12.text, 'lxml')"
   ]
  },
  {
   "cell_type": "code",
   "execution_count": 117,
   "metadata": {},
   "outputs": [
    {
     "data": {
      "text/plain": [
       "['https://www.pagina12.com.ar/secciones/el-pais',\n",
       " 'https://www.pagina12.com.ar/secciones/economia',\n",
       " 'https://www.pagina12.com.ar/secciones/sociedad',\n",
       " 'https://www.pagina12.com.ar/suplementos/cultura-y-espectaculos',\n",
       " 'https://www.pagina12.com.ar/secciones/deportes',\n",
       " 'https://www.pagina12.com.ar/secciones/ciencia',\n",
       " 'https://www.pagina12.com.ar/secciones/el-mundo']"
      ]
     },
     "execution_count": 117,
     "metadata": {},
     "output_type": "execute_result"
    }
   ],
   "source": [
    "anclas=s.find('ul', attrs={'class':'main-sections'}).find_all('a')\n",
    "links_secciones=[ancla.get('href') for ancla in anclas]\n",
    "links_secciones"
   ]
  },
  {
   "cell_type": "code",
   "execution_count": 118,
   "metadata": {},
   "outputs": [
    {
     "data": {
      "text/plain": [
       "'https://www.pagina12.com.ar//521885-lo-que-no-se-cuenta-de-mauro-stendel-el-empresario-que-mando'"
      ]
     },
     "execution_count": 118,
     "metadata": {},
     "output_type": "execute_result"
    }
   ],
   "source": [
    "sec=requests.get(links_secciones[0])\n",
    "s_section=BeautifulSoup(sec.text,'lxml')\n",
    "top_article=s_section.find('section', attrs={'class':'top-content'})\n",
    "link_top_article=p12.request.url+top_article.a.get('href')\n",
    "link_top_article"
   ]
  },
  {
   "cell_type": "code",
   "execution_count": 119,
   "metadata": {},
   "outputs": [
    {
     "data": {
      "text/plain": [
       "['https://www.pagina12.com.ar//521782-el-dilema-del-frente-de-todos-competencia-interna-o-candidat',\n",
       " 'https://www.pagina12.com.ar//521542-cristina-kirchner-celebro-la-victoria-de-la-agrupacion-de-ra',\n",
       " 'https://www.pagina12.com.ar//521676-la-promesa-incumplida-del-genocida-adolfo-donda-a-su-cunada',\n",
       " 'https://www.pagina12.com.ar//521732-mendoza-el-enroque-que-imaginan-rodolfo-suarez-y-adolfo-corn',\n",
       " 'https://www.pagina12.com.ar//521759-juntos-por-el-cambio-un-intento-por-evitar-mas-fracturas-en-',\n",
       " 'https://www.pagina12.com.ar//521764-organizaciones-sociales-de-izquierda-realizaran-este-martes-',\n",
       " 'https://www.pagina12.com.ar//521768-argentina-registro-la-tasa-de-mortalidad-infantil-mas-baja-d',\n",
       " 'https://www.pagina12.com.ar//521779-el-verdadero-programa-de-horacio-rodriguez-larreta',\n",
       " 'https://www.pagina12.com.ar//521780-atentado-contra-cfk-el-respaldo-corporativo-a-los-vinculos-d',\n",
       " 'https://www.pagina12.com.ar//521783-aumenta-la-tension-en-el-frente-de-todos-en-la-previa-de-la-']"
      ]
     },
     "execution_count": 119,
     "metadata": {},
     "output_type": "execute_result"
    }
   ],
   "source": [
    "article_containers_list=s_section.find_all('div',attrs={'class':'articles-list'})\n",
    "article_list=[artiContainers.find_all('article',attrs={'class':'article-item'})for artiContainers in article_containers_list]\n",
    "article_list= article_list[0]+article_list[1]\n",
    "anclas_articulos=[articulos.a.get('href')for articulos in article_list]\n",
    "links_anclas=[p12.request.url + ancla for ancla in anclas_articulos]\n",
    "links_anclas"
   ]
  },
  {
   "cell_type": "code",
   "execution_count": 120,
   "metadata": {},
   "outputs": [],
   "source": [
    "def getNewsLinks(page):\n",
    "\n",
    "    \"\"\" Here we get the page content \"\"\"\n",
    "    linkPage=requests.get(page)\n",
    "\n",
    "    \"\"\" We convert the the page content into a BS4 type variable \"\"\"\n",
    "    soupPage=BeautifulSoup(linkPage.text,'lxml')\n",
    "\n",
    "    \"\"\" en uuna variable almacenamos el contenedor de los articulos \"\"\"\n",
    "    articles_container=soupPage.find('div',attrs={'class':'main-content'})\n",
    "\n",
    "    \"\"\" dentro de article_list almacenamos una lista de todos los articulos dentro del contenedor\"\"\"\n",
    "    article_list=articles_container.find_all('article',attrs={'class':'article-item'})\n",
    "\n",
    "    \"\"\" obtenemos los links a los cuales redirige cada item en la lista \"\"\"\n",
    "    anclas_articulos=[articulos.a.get('href')for articulos in article_list]\n",
    "\n",
    "    \"\"\" Agregamos el link originario de la página, para armar un link funcional, ya que los href que nos brinda el sitio son, por ejemplo '/deportes' , sin la parte inicial, que podemos obtener agragandolo manualmente el link de la pagina a cada ancla en la lista \"\"\"\n",
    "    links_anclas=[p12.request.url + ancla for ancla in anclas_articulos]\n",
    "\n",
    "\n",
    "    \"\"\" devolvemos el resultados con los links de esa sección del diario \"\"\"\n",
    "    return links_anclas"
   ]
  },
  {
   "cell_type": "code",
   "execution_count": 121,
   "metadata": {},
   "outputs": [
    {
     "data": {
      "text/plain": [
       "['https://www.pagina12.com.ar//506801-la-guerra-rusia-ucrania-minuto-a-minuto',\n",
       " 'https://www.pagina12.com.ar//521714-el-correismo-gano-en-siete-provincias-y-conquisto-las-ciudad',\n",
       " 'https://www.pagina12.com.ar//521742-donde-cayo-el-globo-chino',\n",
       " 'https://www.pagina12.com.ar//521685-francia-pese-a-las-protestas-la-asamblea-nacional-debate-la-',\n",
       " 'https://www.pagina12.com.ar//521755-china-confirmo-que-el-globo-que-sobrevuela-latinoamerica-es-',\n",
       " 'https://www.pagina12.com.ar//521758-la-salud-publica-de-inglaterra-atraviesa-la-mayor-huelga-de-',\n",
       " 'https://www.pagina12.com.ar//521769-el-ministro-de-defensa-de-ucrania-camina-en-la-cornisa',\n",
       " 'https://www.pagina12.com.ar//521777-el-ejercito-israeli-mato-a-cinco-palestinos',\n",
       " 'https://www.pagina12.com.ar//521366-reino-unido-cien-dias-de-gobierno-de-rishi-sunak-y-ninguna-l',\n",
       " 'https://www.pagina12.com.ar//521402-con-cada-escandalo-bolsonaro-se-hunde-mas-y-mas',\n",
       " 'https://www.pagina12.com.ar//521404-dina-boluarte-decreto-el-estado-de-emergencia-en-varias-regi']"
      ]
     },
     "execution_count": 121,
     "metadata": {},
     "output_type": "execute_result"
    }
   ],
   "source": [
    "\n",
    "getNewsLinks('https://www.pagina12.com.ar/secciones/economia')"
   ]
  }
 ],
 "metadata": {
  "kernelspec": {
   "display_name": "scraping",
   "language": "python",
   "name": "python3"
  },
  "language_info": {
   "codemirror_mode": {
    "name": "ipython",
    "version": 3
   },
   "file_extension": ".py",
   "mimetype": "text/x-python",
   "name": "python",
   "nbconvert_exporter": "python",
   "pygments_lexer": "ipython3",
   "version": "3.10.8"
  },
  "orig_nbformat": 4,
  "vscode": {
   "interpreter": {
    "hash": "35e909b5501fda0eb08fd42dbcbc982e4729a6b54456ccd930b62ddd58fc268f"
   }
  }
 },
 "nbformat": 4,
 "nbformat_minor": 2
}
