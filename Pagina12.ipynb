{
 "cells": [
  {
   "cell_type": "code",
   "execution_count": 78,
   "metadata": {},
   "outputs": [],
   "source": [
    "import requests\n",
    "from bs4 import BeautifulSoup"
   ]
  },
  {
   "cell_type": "code",
   "execution_count": 79,
   "metadata": {},
   "outputs": [],
   "source": [
    "url = 'https://pagina12.com.ar'"
   ]
  },
  {
   "cell_type": "code",
   "execution_count": 80,
   "metadata": {},
   "outputs": [],
   "source": [
    "p12 = requests.get(url)"
   ]
  },
  {
   "cell_type": "code",
   "execution_count": 81,
   "metadata": {},
   "outputs": [
    {
     "data": {
      "text/plain": [
       "200"
      ]
     },
     "execution_count": 81,
     "metadata": {},
     "output_type": "execute_result"
    }
   ],
   "source": [
    "p12.status_code"
   ]
  },
  {
   "cell_type": "code",
   "execution_count": 82,
   "metadata": {},
   "outputs": [
    {
     "data": {
      "text/plain": [
       "'https://www.pagina12.com.ar/'"
      ]
     },
     "execution_count": 82,
     "metadata": {},
     "output_type": "execute_result"
    }
   ],
   "source": [
    "p12.request.url"
   ]
  },
  {
   "cell_type": "code",
   "execution_count": 83,
   "metadata": {},
   "outputs": [],
   "source": [
    "s = BeautifulSoup(p12.text, 'lxml')"
   ]
  },
  {
   "cell_type": "code",
   "execution_count": 84,
   "metadata": {},
   "outputs": [
    {
     "data": {
      "text/plain": [
       "['https://www.pagina12.com.ar/secciones/el-pais',\n",
       " 'https://www.pagina12.com.ar/secciones/economia',\n",
       " 'https://www.pagina12.com.ar/secciones/sociedad',\n",
       " 'https://www.pagina12.com.ar/suplementos/cultura-y-espectaculos',\n",
       " 'https://www.pagina12.com.ar/secciones/deportes',\n",
       " 'https://www.pagina12.com.ar/secciones/ciencia',\n",
       " 'https://www.pagina12.com.ar/secciones/el-mundo']"
      ]
     },
     "execution_count": 84,
     "metadata": {},
     "output_type": "execute_result"
    }
   ],
   "source": [
    "anclas=s.find('ul', attrs={'class':'main-sections'}).find_all('a')\n",
    "links_secciones=[ancla.get('href') for ancla in anclas]\n",
    "links_secciones"
   ]
  },
  {
   "cell_type": "code",
   "execution_count": 85,
   "metadata": {},
   "outputs": [
    {
     "data": {
      "text/plain": [
       "'https://www.pagina12.com.ar//521885-lo-que-no-se-cuenta-de-mauro-stendel-el-empresario-que-mando'"
      ]
     },
     "execution_count": 85,
     "metadata": {},
     "output_type": "execute_result"
    }
   ],
   "source": [
    "sec=requests.get(links_secciones[0])\n",
    "s_section=BeautifulSoup(sec.text,'lxml')\n",
    "top_article=s_section.find('section', attrs={'class':'top-content'})\n",
    "link_top_article=p12.request.url+top_article.a.get('href')\n",
    "link_top_article"
   ]
  },
  {
   "cell_type": "code",
   "execution_count": 86,
   "metadata": {},
   "outputs": [
    {
     "data": {
      "text/plain": [
       "['https://www.pagina12.com.ar//521782-el-dilema-del-frente-de-todos-competencia-interna-o-candidat',\n",
       " 'https://www.pagina12.com.ar//521542-cristina-kirchner-celebro-la-victoria-de-la-agrupacion-de-ra',\n",
       " 'https://www.pagina12.com.ar//521676-la-promesa-incumplida-del-genocida-adolfo-donda-a-su-cunada',\n",
       " 'https://www.pagina12.com.ar//521732-mendoza-el-enroque-que-imaginan-rodolfo-suarez-y-adolfo-corn',\n",
       " 'https://www.pagina12.com.ar//521759-juntos-por-el-cambio-un-intento-por-evitar-mas-fracturas-en-',\n",
       " 'https://www.pagina12.com.ar//521764-organizaciones-sociales-de-izquierda-realizaran-este-martes-',\n",
       " 'https://www.pagina12.com.ar//521768-argentina-registro-la-tasa-de-mortalidad-infantil-mas-baja-d',\n",
       " 'https://www.pagina12.com.ar//521779-el-verdadero-programa-de-horacio-rodriguez-larreta',\n",
       " 'https://www.pagina12.com.ar//521780-atentado-contra-cfk-el-respaldo-corporativo-a-los-vinculos-d',\n",
       " 'https://www.pagina12.com.ar//521783-aumenta-la-tension-en-el-frente-de-todos-en-la-previa-de-la-']"
      ]
     },
     "execution_count": 86,
     "metadata": {},
     "output_type": "execute_result"
    }
   ],
   "source": [
    "article_containers_list=s_section.find_all('div',attrs={'class':'articles-list'})\n",
    "article_list=[artiContainers.find_all('article',attrs={'class':'article-item'})for artiContainers in article_containers_list]\n",
    "article_list= article_list[0]+article_list[1]\n",
    "anclas_articulos=[articulos.a.get('href')for articulos in article_list]\n",
    "links_anclas=[p12.request.url + ancla for ancla in anclas_articulos]\n",
    "links_anclas"
   ]
  },
  {
   "cell_type": "code",
   "execution_count": 87,
   "metadata": {},
   "outputs": [],
   "source": [
    "def getNewsLinks(page):\n",
    "\n",
    "    \"\"\" Here we get the page content \"\"\"\n",
    "    linkPage=requests.get(page)\n",
    "\n",
    "    \"\"\" We convert the the page content into a BS4 type variable \"\"\"\n",
    "    soupPage=BeautifulSoup(linkPage.text,'lxml')\n",
    "\n",
    "    \"\"\" en un array colocamos todos los contenedores de articulos en la pagina \"\"\"\n",
    "    article_containers_list=soupPage.find_all('div',attrs={'class':'articles-list'})\n",
    "\n",
    "    \"\"\" dentro de article_list almacenamos los items de listas que obtuvimos luego de recorrer los contenedores de articulos que obtuvimos en la linea anterior, existe un elemento por cada contenedor, en cada elemento se almacenan los list_items\"\"\"\n",
    "    article_list=[artiContainers.find_all('article',attrs={'class':'article-item'})for artiContainers in article_containers_list]\n",
    "\n",
    "    \"\"\" combinamos las dos listas en una nueva llamada article_list, provenientes cada una de un contenedor , en este caso 2, en las posiciones 0 y 1 \"\"\"\n",
    "    article_list= article_list[0]+article_list[1]\n",
    "\n",
    "    \"\"\" obtenemos los links a los cuales redirige cada item en la lista \"\"\"\n",
    "    anclas_articulos=[articulos.a.get('href')for articulos in article_list]\n",
    "\n",
    "    \"\"\" Agregamos el link originario de la página, para armar un link funcional, ya que los href que nos brinda el sitio son, por ejemplo '/deportes' , sin la parte inicial, que podemos obtener agragandolo manualmente el link de la pagina a cada ancla en la lista \"\"\"\n",
    "    links_anclas=[p12.request.url + ancla for ancla in anclas_articulos]\n",
    "\n",
    "\n",
    "    \"\"\" devolvemos el resultados con los links de esa sección del diario \"\"\"\n",
    "    return links_anclas"
   ]
  },
  {
   "cell_type": "code",
   "execution_count": 88,
   "metadata": {},
   "outputs": [
    {
     "data": {
      "text/plain": [
       "['https://www.pagina12.com.ar//521714-el-correismo-gano-en-siete-provincias-y-conquisto-las-ciudad',\n",
       " 'https://www.pagina12.com.ar//521742-donde-cayo-el-globo-chino']"
      ]
     },
     "execution_count": 88,
     "metadata": {},
     "output_type": "execute_result"
    }
   ],
   "source": [
    "\n",
    "getNewsLinks('https://www.pagina12.com.ar/secciones/el-mundo')"
   ]
  }
 ],
 "metadata": {
  "kernelspec": {
   "display_name": "scraping",
   "language": "python",
   "name": "python3"
  },
  "language_info": {
   "codemirror_mode": {
    "name": "ipython",
    "version": 3
   },
   "file_extension": ".py",
   "mimetype": "text/x-python",
   "name": "python",
   "nbconvert_exporter": "python",
   "pygments_lexer": "ipython3",
   "version": "3.10.8"
  },
  "orig_nbformat": 4,
  "vscode": {
   "interpreter": {
    "hash": "35e909b5501fda0eb08fd42dbcbc982e4729a6b54456ccd930b62ddd58fc268f"
   }
  }
 },
 "nbformat": 4,
 "nbformat_minor": 2
}
